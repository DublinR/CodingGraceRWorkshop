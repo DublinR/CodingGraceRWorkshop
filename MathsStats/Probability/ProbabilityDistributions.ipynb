{
 "cells": [
  {
   "cell_type": "code",
   "execution_count": null,
   "metadata": {
    "collapsed": true
   },
   "outputs": [],
   "source": [
    "### Normal Distribution: Probability Density Function\n",
    "Recall: As the Normal distribution is a continuous distribution, the PDF for a particular observed value will not give us an intuitive\n",
    "result (as far as this module is concerned). It is, in fact, the height of the density curve at a particular point.\\\\ \\bigskip\n",
    "\n",
    "Nonetheless, the relevant \\texttt{R} code may be included in exam questions, so as to add complexity to questions.\n"
   ]
  },
  {
   "cell_type": "code",
   "execution_count": null,
   "metadata": {
    "collapsed": true
   },
   "outputs": [],
   "source": [
    "\n",
    "\\begin{verbatim}\n",
    "> dnorm(0.7)\n",
    "[1] 0.3122539\n",
    ">\n",
    "> dnorm(1.7)\n",
    "[1] 0.09404908\n",
    "\n",
    "\\end{verbatim}"
   ]
  },
  {
   "cell_type": "code",
   "execution_count": null,
   "metadata": {
    "collapsed": true
   },
   "outputs": [],
   "source": [
    "### \\texttt{R} Implementation}\n",
    "\\[ z_o = \\frac{x_o - \\mu}{\\sigma}  = \\frac{2340-2000}{200} = 1.7\\]\n",
    "\n",
    "Using the following \\texttt{R} code, we can determine $P(Z \\leq 1.7)$.\n",
    "\\begin{verbatim}\n",
    "\n",
    "> pnorm(1.7)\n",
    "[1] 0.9554345\n",
    "\n",
    "\\end{verbatim}\n"
   ]
  },
  {
   "cell_type": "code",
   "execution_count": null,
   "metadata": {
    "collapsed": true
   },
   "outputs": [],
   "source": [
    "\n",
    "\n",
    "### Direct \\texttt{R} Implementation}\n",
    "\n",
    "This can easily be implemented directly - without using the standardisation formula.\n",
    "However, we will not be using this approach in this module.\n",
    "\\begin{verbatim}\n",
    "\n",
    "> pnorm(2340,mean=2000,sd=200)\n",
    "[1] 0.9554345\n",
    "\n",
    "\n",
    "\\end{verbatim}\n",
    "\n"
   ]
  }
 ],
 "metadata": {
  "kernelspec": {
   "display_name": "R",
   "language": "R",
   "name": "r"
  },
  "language_info": {
   "codemirror_mode": "r",
   "file_extension": ".r",
   "mimetype": "text/x-r-source",
   "name": "R",
   "pygments_lexer": "r",
   "version": "3.3.0"
  }
 },
 "nbformat": 4,
 "nbformat_minor": 2
}
