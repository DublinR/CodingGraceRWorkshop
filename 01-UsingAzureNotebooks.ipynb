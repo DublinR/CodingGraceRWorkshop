{
 "cells": [
  {
   "cell_type": "code",
   "execution_count": 1,
   "metadata": {
    "collapsed": false
   },
   "outputs": [
    {
     "data": {
      "text/html": [
       "'/home/nbuser'"
      ],
      "text/latex": [
       "'/home/nbuser'"
      ],
      "text/markdown": [
       "'/home/nbuser'"
      ],
      "text/plain": [
       "[1] \"/home/nbuser\""
      ]
     },
     "metadata": {},
     "output_type": "display_data"
    }
   ],
   "source": [
    "getwd()"
   ]
  },
  {
   "cell_type": "code",
   "execution_count": 2,
   "metadata": {
    "collapsed": false
   },
   "outputs": [],
   "source": [
    "# setwd(\"C:/WorkArea\")"
   ]
  },
  {
   "cell_type": "code",
   "execution_count": 11,
   "metadata": {
    "collapsed": false
   },
   "outputs": [],
   "source": [
    "library(dplyr)\n",
    "library(magrittr)\n",
    "library(tidyr)\n",
    "library(readr)\n",
    "#library(nycflights13)"
   ]
  },
  {
   "cell_type": "code",
   "execution_count": 12,
   "metadata": {
    "collapsed": false
   },
   "outputs": [
    {
     "name": "stderr",
     "output_type": "stream",
     "text": [
      "Installing package into '/home/nbcommon/R'\n",
      "(as 'lib' is unspecified)\n"
     ]
    }
   ],
   "source": [
    "install.packages(\"MethComp\")\n",
    "library(MethComp)\n"
   ]
  },
  {
   "cell_type": "code",
   "execution_count": 13,
   "metadata": {
    "collapsed": false
   },
   "outputs": [
    {
     "name": "stderr",
     "output_type": "stream",
     "text": [
      "Installing package into '/home/nbcommon/R'\n",
      "(as 'lib' is unspecified)\n"
     ]
    }
   ],
   "source": [
    "install.packages(\"nycflights13\")"
   ]
  },
  {
   "cell_type": "code",
   "execution_count": 3,
   "metadata": {
    "collapsed": false
   },
   "outputs": [
    {
     "data": {
      "text/html": [
       "<ol class=list-inline>\n",
       "\t<li>150</li>\n",
       "\t<li>5</li>\n",
       "</ol>\n"
      ],
      "text/latex": [
       "\\begin{enumerate*}\n",
       "\\item 150\n",
       "\\item 5\n",
       "\\end{enumerate*}\n"
      ],
      "text/markdown": [
       "1. 150\n",
       "2. 5\n",
       "\n",
       "\n"
      ],
      "text/plain": [
       "[1] 150   5"
      ]
     },
     "metadata": {},
     "output_type": "display_data"
    }
   ],
   "source": [
    "dim(iris)"
   ]
  },
  {
   "cell_type": "code",
   "execution_count": 28,
   "metadata": {
    "collapsed": false
   },
   "outputs": [
    {
     "data": {
      "text/html": [
       "<ol class=list-inline>\n",
       "\t<li>354</li>\n",
       "\t<li>4</li>\n",
       "</ol>\n"
      ],
      "text/latex": [
       "\\begin{enumerate*}\n",
       "\\item 354\n",
       "\\item 4\n",
       "\\end{enumerate*}\n"
      ],
      "text/markdown": [
       "1. 354\n",
       "2. 4\n",
       "\n",
       "\n"
      ],
      "text/plain": [
       "[1] 354   4"
      ]
     },
     "metadata": {},
     "output_type": "display_data"
    }
   ],
   "source": [
    "data(ox);dim(ox)"
   ]
  },
  {
   "cell_type": "code",
   "execution_count": null,
   "metadata": {
    "collapsed": false
   },
   "outputs": [],
   "source": []
  },
  {
   "cell_type": "code",
   "execution_count": 30,
   "metadata": {
    "collapsed": false
   },
   "outputs": [],
   "source": [
    "library(\"nycflights13\"); data(weather)"
   ]
  },
  {
   "cell_type": "code",
   "execution_count": 31,
   "metadata": {
    "collapsed": false
   },
   "outputs": [
    {
     "data": {
      "text/html": [
       "<ol class=list-inline>\n",
       "\t<li>26130</li>\n",
       "\t<li>15</li>\n",
       "</ol>\n"
      ],
      "text/latex": [
       "\\begin{enumerate*}\n",
       "\\item 26130\n",
       "\\item 15\n",
       "\\end{enumerate*}\n"
      ],
      "text/markdown": [
       "1. 26130\n",
       "2. 15\n",
       "\n",
       "\n"
      ],
      "text/plain": [
       "[1] 26130    15"
      ]
     },
     "metadata": {},
     "output_type": "display_data"
    }
   ],
   "source": [
    "dim(weather)"
   ]
  },
  {
   "cell_type": "code",
   "execution_count": 47,
   "metadata": {
    "collapsed": false
   },
   "outputs": [],
   "source": [
    "urlfile<-'https://raw.github.com/aronlindberg/latent_growth_classes/master/LGC_data.csv'\n",
    "dsin<-read.csv(url(urlfile))"
   ]
  },
  {
   "cell_type": "code",
   "execution_count": 48,
   "metadata": {
    "collapsed": false
   },
   "outputs": [
    {
     "data": {
      "text/html": [
       "<table>\n",
       "<thead><tr><th scope=col>top100_repository_name</th><th scope=col>month</th><th scope=col>monthly_increase</th><th scope=col>monthly_begin_at</th><th scope=col>monthly_end_with</th></tr></thead>\n",
       "<tbody>\n",
       "\t<tr><td>Bukkit     </td><td>2012-03    </td><td>  9        </td><td> 431       </td><td> 440       </td></tr>\n",
       "\t<tr><td>Bukkit     </td><td>2012-04    </td><td> 19        </td><td> 438       </td><td> 457       </td></tr>\n",
       "\t<tr><td>Bukkit     </td><td>2012-05    </td><td> 19        </td><td> 455       </td><td> 474       </td></tr>\n",
       "\t<tr><td>Bukkit     </td><td>2012-06    </td><td> 18        </td><td> 475       </td><td> 493       </td></tr>\n",
       "\t<tr><td>Bukkit     </td><td>2012-07    </td><td> 15        </td><td> 492       </td><td> 507       </td></tr>\n",
       "\t<tr><td>Bukkit     </td><td>2012-08    </td><td> 50        </td><td> 506       </td><td> 556       </td></tr>\n",
       "\t<tr><td>Bukkit     </td><td>2012-09    </td><td> 19        </td><td> 555       </td><td> 574       </td></tr>\n",
       "\t<tr><td>Bukkit     </td><td>2012-10    </td><td> 26        </td><td> 573       </td><td> 599       </td></tr>\n",
       "\t<tr><td>Bukkit     </td><td>2012-11    </td><td> 21        </td><td> 600       </td><td> 621       </td></tr>\n",
       "\t<tr><td>Bukkit     </td><td>2012-12    </td><td> 21        </td><td> 621       </td><td> 642       </td></tr>\n",
       "\t<tr><td>CodeIgniter</td><td>2012-03    </td><td> 55        </td><td> 708       </td><td> 763       </td></tr>\n",
       "\t<tr><td>CodeIgniter</td><td>2012-04    </td><td> 75        </td><td> 763       </td><td> 838       </td></tr>\n",
       "\t<tr><td>CodeIgniter</td><td>2012-05    </td><td> 92        </td><td> 837       </td><td> 929       </td></tr>\n",
       "\t<tr><td>CodeIgniter</td><td>2012-06    </td><td> 99        </td><td> 929       </td><td>1028       </td></tr>\n",
       "\t<tr><td>CodeIgniter</td><td>2012-07    </td><td>140        </td><td>1028       </td><td>1168       </td></tr>\n",
       "\t<tr><td>CodeIgniter</td><td>2012-08    </td><td> 94        </td><td>1168       </td><td>1262       </td></tr>\n",
       "\t<tr><td>CodeIgniter</td><td>2012-09    </td><td> 91        </td><td>1262       </td><td>1353       </td></tr>\n",
       "\t<tr><td>CodeIgniter</td><td>2012-10    </td><td> 91        </td><td>1352       </td><td>1443       </td></tr>\n",
       "\t<tr><td>CodeIgniter</td><td>2012-11    </td><td>103        </td><td>1441       </td><td>1544       </td></tr>\n",
       "\t<tr><td>CodeIgniter</td><td>2012-12    </td><td> 72        </td><td>1544       </td><td>1616       </td></tr>\n",
       "\t<tr><td>CraftBukkit</td><td>2012-03    </td><td> 22        </td><td> 528       </td><td> 550       </td></tr>\n",
       "\t<tr><td>CraftBukkit</td><td>2012-04    </td><td> 24        </td><td> 547       </td><td> 571       </td></tr>\n",
       "\t<tr><td>CraftBukkit</td><td>2012-05    </td><td> 27        </td><td> 569       </td><td> 596       </td></tr>\n",
       "\t<tr><td>CraftBukkit</td><td>2012-06    </td><td> 33        </td><td> 594       </td><td> 627       </td></tr>\n",
       "\t<tr><td>CraftBukkit</td><td>2012-07    </td><td>630        </td><td>  11       </td><td> 641       </td></tr>\n",
       "\t<tr><td>CraftBukkit</td><td>2012-08    </td><td>701        </td><td>  13       </td><td> 714       </td></tr>\n",
       "\t<tr><td>CraftBukkit</td><td>2012-09    </td><td>724        </td><td>  19       </td><td> 743       </td></tr>\n",
       "\t<tr><td>CraftBukkit</td><td>2012-10    </td><td>762        </td><td>  23       </td><td> 785       </td></tr>\n",
       "\t<tr><td>CraftBukkit</td><td>2012-11    </td><td>796        </td><td>  24       </td><td> 820       </td></tr>\n",
       "\t<tr><td>CraftBukkit</td><td>2012-12    </td><td>835        </td><td>  25       </td><td> 860       </td></tr>\n",
       "\t<tr><td>...</td><td>...</td><td>...</td><td>...</td><td>...</td></tr>\n",
       "\t<tr><td>will_paginate</td><td>2012-03      </td><td> 10          </td><td> 423         </td><td> 433         </td></tr>\n",
       "\t<tr><td>will_paginate</td><td>2012-04      </td><td>  8          </td><td> 432         </td><td> 440         </td></tr>\n",
       "\t<tr><td>will_paginate</td><td>2012-05      </td><td> 13          </td><td> 440         </td><td> 453         </td></tr>\n",
       "\t<tr><td>will_paginate</td><td>2012-06      </td><td>  6          </td><td> 453         </td><td> 459         </td></tr>\n",
       "\t<tr><td>will_paginate</td><td>2012-07      </td><td>  9          </td><td> 459         </td><td> 468         </td></tr>\n",
       "\t<tr><td>will_paginate</td><td>2012-08      </td><td> 11          </td><td> 467         </td><td> 478         </td></tr>\n",
       "\t<tr><td>will_paginate</td><td>2012-09      </td><td> 11          </td><td> 478         </td><td> 489         </td></tr>\n",
       "\t<tr><td>will_paginate</td><td>2012-10      </td><td>  5          </td><td> 490         </td><td> 495         </td></tr>\n",
       "\t<tr><td>will_paginate</td><td>2012-11      </td><td> 14          </td><td> 495         </td><td> 509         </td></tr>\n",
       "\t<tr><td>will_paginate</td><td>2012-12      </td><td>  1          </td><td> 511         </td><td> 512         </td></tr>\n",
       "\t<tr><td>xbmc         </td><td>2012-03      </td><td>502          </td><td>  11         </td><td> 513         </td></tr>\n",
       "\t<tr><td>xbmc         </td><td>2012-04      </td><td>533          </td><td>  11         </td><td> 544         </td></tr>\n",
       "\t<tr><td>xbmc         </td><td>2012-05      </td><td>578          </td><td>  11         </td><td> 589         </td></tr>\n",
       "\t<tr><td>xbmc         </td><td>2012-06      </td><td>622          </td><td>  12         </td><td> 634         </td></tr>\n",
       "\t<tr><td>xbmc         </td><td>2012-07      </td><td>663          </td><td>  14         </td><td> 677         </td></tr>\n",
       "\t<tr><td>xbmc         </td><td>2012-08      </td><td>715          </td><td>  14         </td><td> 729         </td></tr>\n",
       "\t<tr><td>xbmc         </td><td>2012-09      </td><td>772          </td><td>  15         </td><td> 787         </td></tr>\n",
       "\t<tr><td>xbmc         </td><td>2012-10      </td><td>847          </td><td>  11         </td><td> 858         </td></tr>\n",
       "\t<tr><td>xbmc         </td><td>2012-11      </td><td>887          </td><td>  11         </td><td> 898         </td></tr>\n",
       "\t<tr><td>xbmc         </td><td>2012-12      </td><td>907          </td><td>  11         </td><td> 918         </td></tr>\n",
       "\t<tr><td>zf2          </td><td>2012-03      </td><td> 27          </td><td> 727         </td><td> 754         </td></tr>\n",
       "\t<tr><td>zf2          </td><td>2012-04      </td><td> 52          </td><td> 752         </td><td> 804         </td></tr>\n",
       "\t<tr><td>zf2          </td><td>2012-05      </td><td> 60          </td><td> 804         </td><td> 864         </td></tr>\n",
       "\t<tr><td>zf2          </td><td>2012-06      </td><td> 64          </td><td> 865         </td><td> 929         </td></tr>\n",
       "\t<tr><td>zf2          </td><td>2012-07      </td><td> 60          </td><td> 929         </td><td> 989         </td></tr>\n",
       "\t<tr><td>zf2          </td><td>2012-08      </td><td> 68          </td><td> 988         </td><td>1056         </td></tr>\n",
       "\t<tr><td>zf2          </td><td>2012-09      </td><td>204          </td><td>1056         </td><td>1260         </td></tr>\n",
       "\t<tr><td>zf2          </td><td>2012-10      </td><td>128          </td><td>1260         </td><td>1388         </td></tr>\n",
       "\t<tr><td>zf2          </td><td>2012-11      </td><td> 92          </td><td>1388         </td><td>1480         </td></tr>\n",
       "\t<tr><td>zf2          </td><td>2012-12      </td><td> 56          </td><td>1480         </td><td>1536         </td></tr>\n",
       "</tbody>\n",
       "</table>\n"
      ],
      "text/latex": [
       "\\begin{tabular}{r|lllll}\n",
       " top100\\_repository\\_name & month & monthly\\_increase & monthly\\_begin\\_at & monthly\\_end\\_with\\\\\n",
       "\\hline\n",
       "\t Bukkit      & 2012-03     &   9         &  431        &  440       \\\\\n",
       "\t Bukkit      & 2012-04     &  19         &  438        &  457       \\\\\n",
       "\t Bukkit      & 2012-05     &  19         &  455        &  474       \\\\\n",
       "\t Bukkit      & 2012-06     &  18         &  475        &  493       \\\\\n",
       "\t Bukkit      & 2012-07     &  15         &  492        &  507       \\\\\n",
       "\t Bukkit      & 2012-08     &  50         &  506        &  556       \\\\\n",
       "\t Bukkit      & 2012-09     &  19         &  555        &  574       \\\\\n",
       "\t Bukkit      & 2012-10     &  26         &  573        &  599       \\\\\n",
       "\t Bukkit      & 2012-11     &  21         &  600        &  621       \\\\\n",
       "\t Bukkit      & 2012-12     &  21         &  621        &  642       \\\\\n",
       "\t CodeIgniter & 2012-03     &  55         &  708        &  763       \\\\\n",
       "\t CodeIgniter & 2012-04     &  75         &  763        &  838       \\\\\n",
       "\t CodeIgniter & 2012-05     &  92         &  837        &  929       \\\\\n",
       "\t CodeIgniter & 2012-06     &  99         &  929        & 1028       \\\\\n",
       "\t CodeIgniter & 2012-07     & 140         & 1028        & 1168       \\\\\n",
       "\t CodeIgniter & 2012-08     &  94         & 1168        & 1262       \\\\\n",
       "\t CodeIgniter & 2012-09     &  91         & 1262        & 1353       \\\\\n",
       "\t CodeIgniter & 2012-10     &  91         & 1352        & 1443       \\\\\n",
       "\t CodeIgniter & 2012-11     & 103         & 1441        & 1544       \\\\\n",
       "\t CodeIgniter & 2012-12     &  72         & 1544        & 1616       \\\\\n",
       "\t CraftBukkit & 2012-03     &  22         &  528        &  550       \\\\\n",
       "\t CraftBukkit & 2012-04     &  24         &  547        &  571       \\\\\n",
       "\t CraftBukkit & 2012-05     &  27         &  569        &  596       \\\\\n",
       "\t CraftBukkit & 2012-06     &  33         &  594        &  627       \\\\\n",
       "\t CraftBukkit & 2012-07     & 630         &   11        &  641       \\\\\n",
       "\t CraftBukkit & 2012-08     & 701         &   13        &  714       \\\\\n",
       "\t CraftBukkit & 2012-09     & 724         &   19        &  743       \\\\\n",
       "\t CraftBukkit & 2012-10     & 762         &   23        &  785       \\\\\n",
       "\t CraftBukkit & 2012-11     & 796         &   24        &  820       \\\\\n",
       "\t CraftBukkit & 2012-12     & 835         &   25        &  860       \\\\\n",
       "\t ... & ... & ... & ... & ...\\\\\n",
       "\t will\\_paginate & 2012-03         &  10             &  423            &  433           \\\\\n",
       "\t will\\_paginate & 2012-04         &   8             &  432            &  440           \\\\\n",
       "\t will\\_paginate & 2012-05         &  13             &  440            &  453           \\\\\n",
       "\t will\\_paginate & 2012-06         &   6             &  453            &  459           \\\\\n",
       "\t will\\_paginate & 2012-07         &   9             &  459            &  468           \\\\\n",
       "\t will\\_paginate & 2012-08         &  11             &  467            &  478           \\\\\n",
       "\t will\\_paginate & 2012-09         &  11             &  478            &  489           \\\\\n",
       "\t will\\_paginate & 2012-10         &   5             &  490            &  495           \\\\\n",
       "\t will\\_paginate & 2012-11         &  14             &  495            &  509           \\\\\n",
       "\t will\\_paginate & 2012-12         &   1             &  511            &  512           \\\\\n",
       "\t xbmc          & 2012-03       & 502           &   11          &  513         \\\\\n",
       "\t xbmc          & 2012-04       & 533           &   11          &  544         \\\\\n",
       "\t xbmc          & 2012-05       & 578           &   11          &  589         \\\\\n",
       "\t xbmc          & 2012-06       & 622           &   12          &  634         \\\\\n",
       "\t xbmc          & 2012-07       & 663           &   14          &  677         \\\\\n",
       "\t xbmc          & 2012-08       & 715           &   14          &  729         \\\\\n",
       "\t xbmc          & 2012-09       & 772           &   15          &  787         \\\\\n",
       "\t xbmc          & 2012-10       & 847           &   11          &  858         \\\\\n",
       "\t xbmc          & 2012-11       & 887           &   11          &  898         \\\\\n",
       "\t xbmc          & 2012-12       & 907           &   11          &  918         \\\\\n",
       "\t zf2           & 2012-03       &  27           &  727          &  754         \\\\\n",
       "\t zf2           & 2012-04       &  52           &  752          &  804         \\\\\n",
       "\t zf2           & 2012-05       &  60           &  804          &  864         \\\\\n",
       "\t zf2           & 2012-06       &  64           &  865          &  929         \\\\\n",
       "\t zf2           & 2012-07       &  60           &  929          &  989         \\\\\n",
       "\t zf2           & 2012-08       &  68           &  988          & 1056         \\\\\n",
       "\t zf2           & 2012-09       & 204           & 1056          & 1260         \\\\\n",
       "\t zf2           & 2012-10       & 128           & 1260          & 1388         \\\\\n",
       "\t zf2           & 2012-11       &  92           & 1388          & 1480         \\\\\n",
       "\t zf2           & 2012-12       &  56           & 1480          & 1536         \\\\\n",
       "\\end{tabular}\n"
      ],
      "text/markdown": [
       "\n",
       "top100_repository_name | month | monthly_increase | monthly_begin_at | monthly_end_with | \n",
       "|---|---|---|---|---|---|---|---|---|---|---|---|---|---|---|---|---|---|---|---|---|---|---|---|---|---|---|---|---|---|---|---|---|---|---|---|---|---|---|---|---|---|---|---|---|---|---|---|---|---|---|---|---|---|---|---|---|---|---|---|---|\n",
       "| Bukkit      | 2012-03     |   9         |  431        |  440        | \n",
       "| Bukkit      | 2012-04     |  19         |  438        |  457        | \n",
       "| Bukkit      | 2012-05     |  19         |  455        |  474        | \n",
       "| Bukkit      | 2012-06     |  18         |  475        |  493        | \n",
       "| Bukkit      | 2012-07     |  15         |  492        |  507        | \n",
       "| Bukkit      | 2012-08     |  50         |  506        |  556        | \n",
       "| Bukkit      | 2012-09     |  19         |  555        |  574        | \n",
       "| Bukkit      | 2012-10     |  26         |  573        |  599        | \n",
       "| Bukkit      | 2012-11     |  21         |  600        |  621        | \n",
       "| Bukkit      | 2012-12     |  21         |  621        |  642        | \n",
       "| CodeIgniter | 2012-03     |  55         |  708        |  763        | \n",
       "| CodeIgniter | 2012-04     |  75         |  763        |  838        | \n",
       "| CodeIgniter | 2012-05     |  92         |  837        |  929        | \n",
       "| CodeIgniter | 2012-06     |  99         |  929        | 1028        | \n",
       "| CodeIgniter | 2012-07     | 140         | 1028        | 1168        | \n",
       "| CodeIgniter | 2012-08     |  94         | 1168        | 1262        | \n",
       "| CodeIgniter | 2012-09     |  91         | 1262        | 1353        | \n",
       "| CodeIgniter | 2012-10     |  91         | 1352        | 1443        | \n",
       "| CodeIgniter | 2012-11     | 103         | 1441        | 1544        | \n",
       "| CodeIgniter | 2012-12     |  72         | 1544        | 1616        | \n",
       "| CraftBukkit | 2012-03     |  22         |  528        |  550        | \n",
       "| CraftBukkit | 2012-04     |  24         |  547        |  571        | \n",
       "| CraftBukkit | 2012-05     |  27         |  569        |  596        | \n",
       "| CraftBukkit | 2012-06     |  33         |  594        |  627        | \n",
       "| CraftBukkit | 2012-07     | 630         |   11        |  641        | \n",
       "| CraftBukkit | 2012-08     | 701         |   13        |  714        | \n",
       "| CraftBukkit | 2012-09     | 724         |   19        |  743        | \n",
       "| CraftBukkit | 2012-10     | 762         |   23        |  785        | \n",
       "| CraftBukkit | 2012-11     | 796         |   24        |  820        | \n",
       "| CraftBukkit | 2012-12     | 835         |   25        |  860        | \n",
       "| ... | ... | ... | ... | ... | \n",
       "| will_paginate | 2012-03       |  10           |  423          |  433          | \n",
       "| will_paginate | 2012-04       |   8           |  432          |  440          | \n",
       "| will_paginate | 2012-05       |  13           |  440          |  453          | \n",
       "| will_paginate | 2012-06       |   6           |  453          |  459          | \n",
       "| will_paginate | 2012-07       |   9           |  459          |  468          | \n",
       "| will_paginate | 2012-08       |  11           |  467          |  478          | \n",
       "| will_paginate | 2012-09       |  11           |  478          |  489          | \n",
       "| will_paginate | 2012-10       |   5           |  490          |  495          | \n",
       "| will_paginate | 2012-11       |  14           |  495          |  509          | \n",
       "| will_paginate | 2012-12       |   1           |  511          |  512          | \n",
       "| xbmc          | 2012-03       | 502           |   11          |  513          | \n",
       "| xbmc          | 2012-04       | 533           |   11          |  544          | \n",
       "| xbmc          | 2012-05       | 578           |   11          |  589          | \n",
       "| xbmc          | 2012-06       | 622           |   12          |  634          | \n",
       "| xbmc          | 2012-07       | 663           |   14          |  677          | \n",
       "| xbmc          | 2012-08       | 715           |   14          |  729          | \n",
       "| xbmc          | 2012-09       | 772           |   15          |  787          | \n",
       "| xbmc          | 2012-10       | 847           |   11          |  858          | \n",
       "| xbmc          | 2012-11       | 887           |   11          |  898          | \n",
       "| xbmc          | 2012-12       | 907           |   11          |  918          | \n",
       "| zf2           | 2012-03       |  27           |  727          |  754          | \n",
       "| zf2           | 2012-04       |  52           |  752          |  804          | \n",
       "| zf2           | 2012-05       |  60           |  804          |  864          | \n",
       "| zf2           | 2012-06       |  64           |  865          |  929          | \n",
       "| zf2           | 2012-07       |  60           |  929          |  989          | \n",
       "| zf2           | 2012-08       |  68           |  988          | 1056          | \n",
       "| zf2           | 2012-09       | 204           | 1056          | 1260          | \n",
       "| zf2           | 2012-10       | 128           | 1260          | 1388          | \n",
       "| zf2           | 2012-11       |  92           | 1388          | 1480          | \n",
       "| zf2           | 2012-12       |  56           | 1480          | 1536          | \n",
       "\n",
       "\n"
      ],
      "text/plain": [
       "     top100_repository_name month   monthly_increase monthly_begin_at\n",
       "1    Bukkit                 2012-03   9               431            \n",
       "2    Bukkit                 2012-04  19               438            \n",
       "3    Bukkit                 2012-05  19               455            \n",
       "4    Bukkit                 2012-06  18               475            \n",
       "5    Bukkit                 2012-07  15               492            \n",
       "6    Bukkit                 2012-08  50               506            \n",
       "7    Bukkit                 2012-09  19               555            \n",
       "8    Bukkit                 2012-10  26               573            \n",
       "9    Bukkit                 2012-11  21               600            \n",
       "10   Bukkit                 2012-12  21               621            \n",
       "11   CodeIgniter            2012-03  55               708            \n",
       "12   CodeIgniter            2012-04  75               763            \n",
       "13   CodeIgniter            2012-05  92               837            \n",
       "14   CodeIgniter            2012-06  99               929            \n",
       "15   CodeIgniter            2012-07 140              1028            \n",
       "16   CodeIgniter            2012-08  94              1168            \n",
       "17   CodeIgniter            2012-09  91              1262            \n",
       "18   CodeIgniter            2012-10  91              1352            \n",
       "19   CodeIgniter            2012-11 103              1441            \n",
       "20   CodeIgniter            2012-12  72              1544            \n",
       "21   CraftBukkit            2012-03  22               528            \n",
       "22   CraftBukkit            2012-04  24               547            \n",
       "23   CraftBukkit            2012-05  27               569            \n",
       "24   CraftBukkit            2012-06  33               594            \n",
       "25   CraftBukkit            2012-07 630                11            \n",
       "26   CraftBukkit            2012-08 701                13            \n",
       "27   CraftBukkit            2012-09 724                19            \n",
       "28   CraftBukkit            2012-10 762                23            \n",
       "29   CraftBukkit            2012-11 796                24            \n",
       "30   CraftBukkit            2012-12 835                25            \n",
       "...  ...                    ...     ...              ...             \n",
       "971  will_paginate          2012-03  10               423            \n",
       "972  will_paginate          2012-04   8               432            \n",
       "973  will_paginate          2012-05  13               440            \n",
       "974  will_paginate          2012-06   6               453            \n",
       "975  will_paginate          2012-07   9               459            \n",
       "976  will_paginate          2012-08  11               467            \n",
       "977  will_paginate          2012-09  11               478            \n",
       "978  will_paginate          2012-10   5               490            \n",
       "979  will_paginate          2012-11  14               495            \n",
       "980  will_paginate          2012-12   1               511            \n",
       "981  xbmc                   2012-03 502                11            \n",
       "982  xbmc                   2012-04 533                11            \n",
       "983  xbmc                   2012-05 578                11            \n",
       "984  xbmc                   2012-06 622                12            \n",
       "985  xbmc                   2012-07 663                14            \n",
       "986  xbmc                   2012-08 715                14            \n",
       "987  xbmc                   2012-09 772                15            \n",
       "988  xbmc                   2012-10 847                11            \n",
       "989  xbmc                   2012-11 887                11            \n",
       "990  xbmc                   2012-12 907                11            \n",
       "991  zf2                    2012-03  27               727            \n",
       "992  zf2                    2012-04  52               752            \n",
       "993  zf2                    2012-05  60               804            \n",
       "994  zf2                    2012-06  64               865            \n",
       "995  zf2                    2012-07  60               929            \n",
       "996  zf2                    2012-08  68               988            \n",
       "997  zf2                    2012-09 204              1056            \n",
       "998  zf2                    2012-10 128              1260            \n",
       "999  zf2                    2012-11  92              1388            \n",
       "1000 zf2                    2012-12  56              1480            \n",
       "     monthly_end_with\n",
       "1     440            \n",
       "2     457            \n",
       "3     474            \n",
       "4     493            \n",
       "5     507            \n",
       "6     556            \n",
       "7     574            \n",
       "8     599            \n",
       "9     621            \n",
       "10    642            \n",
       "11    763            \n",
       "12    838            \n",
       "13    929            \n",
       "14   1028            \n",
       "15   1168            \n",
       "16   1262            \n",
       "17   1353            \n",
       "18   1443            \n",
       "19   1544            \n",
       "20   1616            \n",
       "21    550            \n",
       "22    571            \n",
       "23    596            \n",
       "24    627            \n",
       "25    641            \n",
       "26    714            \n",
       "27    743            \n",
       "28    785            \n",
       "29    820            \n",
       "30    860            \n",
       "...  ...             \n",
       "971   433            \n",
       "972   440            \n",
       "973   453            \n",
       "974   459            \n",
       "975   468            \n",
       "976   478            \n",
       "977   489            \n",
       "978   495            \n",
       "979   509            \n",
       "980   512            \n",
       "981   513            \n",
       "982   544            \n",
       "983   589            \n",
       "984   634            \n",
       "985   677            \n",
       "986   729            \n",
       "987   787            \n",
       "988   858            \n",
       "989   898            \n",
       "990   918            \n",
       "991   754            \n",
       "992   804            \n",
       "993   864            \n",
       "994   929            \n",
       "995   989            \n",
       "996  1056            \n",
       "997  1260            \n",
       "998  1388            \n",
       "999  1480            \n",
       "1000 1536            "
      ]
     },
     "metadata": {},
     "output_type": "display_data"
    }
   ],
   "source": [
    "dsin"
   ]
  },
  {
   "cell_type": "code",
   "execution_count": null,
   "metadata": {
    "collapsed": true
   },
   "outputs": [],
   "source": []
  }
 ],
 "metadata": {
  "kernelspec": {
   "display_name": "R",
   "language": "R",
   "name": "r"
  },
  "language_info": {
   "codemirror_mode": "r",
   "file_extension": ".r",
   "mimetype": "text/x-r-source",
   "name": "R",
   "pygments_lexer": "r",
   "version": "3.3.0"
  }
 },
 "nbformat": 4,
 "nbformat_minor": 2
}
